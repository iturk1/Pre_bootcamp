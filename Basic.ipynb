{
 "cells": [
  {
   "cell_type": "code",
   "execution_count": 61,
   "id": "a472c846-b3f6-403c-8463-b55688fbbddb",
   "metadata": {},
   "outputs": [
    {
     "name": "stdout",
     "output_type": "stream",
     "text": [
      "Hello {{ Turki }}\n",
      "Hello Turki\n"
     ]
    }
   ],
   "source": [
    "name = \"Turki\"\n",
    "print(\"Hello\",'{{',name,'}}')\t# with a comma\n",
    "print(\"Hello \" + name )\t# with a "
   ]
  },
  {
   "cell_type": "code",
   "execution_count": 60,
   "id": "b8908110-3681-4b4c-97dd-6cfdba5992dc",
   "metadata": {},
   "outputs": [
    {
     "name": "stdout",
     "output_type": "stream",
     "text": [
      "62500000000\n"
     ]
    }
   ],
   "source": [
    "sum =0\n",
    "for x in range(0,500_000+1):\n",
    "    if(x % 2 !=0): \n",
    "        sum+=x   \n",
    "print(sum)  "
   ]
  },
  {
   "cell_type": "code",
   "execution_count": 2,
   "id": "b10d3038-2b36-48b4-9ea6-00930b971717",
   "metadata": {},
   "outputs": [
    {
     "name": "stdin",
     "output_type": "stream",
     "text": [
      "Statring at:  2\n",
      "Ending the loop at:  9\n",
      "Enter a value of mult 3\n"
     ]
    },
    {
     "name": "stdout",
     "output_type": "stream",
     "text": [
      "3\n",
      "6\n",
      "9\n"
     ]
    }
   ],
   "source": [
    "#6 Print only the integers that are a multiple of mult\n",
    "lowNum = int(input(\"Statring at: \"))\n",
    "highNum = int(input(\"Ending the loop at: \"))\n",
    "mult = int(input(\"Enter a value of mult\"))\n",
    "\n",
    "for x in range (lowNum, highNum+1):\n",
    "    if x % mult ==0:\n",
    "        print(x)"
   ]
  },
  {
   "cell_type": "code",
   "execution_count": 5,
   "id": "413009cb-cab8-4d86-ae7c-7b6cb79f8b9a",
   "metadata": {},
   "outputs": [
    {
     "name": "stdout",
     "output_type": "stream",
     "text": [
      "0\n",
      "1\n",
      "2\n",
      "3\n",
      "4\n",
      "5\n"
     ]
    },
    {
     "data": {
      "text/plain": [
       "15"
      ]
     },
     "execution_count": 5,
     "metadata": {},
     "output_type": "execute_result"
    }
   ],
   "source": [
    "count = 0\n",
    "for i in range(6):\n",
    "    print(i)\n",
    "    count = count +i\n",
    "count"
   ]
  },
  {
   "cell_type": "code",
   "execution_count": null,
   "id": "4786cc0a-155c-4db3-a6a4-85ca9eaf5b89",
   "metadata": {},
   "outputs": [],
   "source": []
  }
 ],
 "metadata": {
  "kernelspec": {
   "display_name": "Python 3",
   "language": "python",
   "name": "python3"
  },
  "language_info": {
   "codemirror_mode": {
    "name": "ipython",
    "version": 3
   },
   "file_extension": ".py",
   "mimetype": "text/x-python",
   "name": "python",
   "nbconvert_exporter": "python",
   "pygments_lexer": "ipython3",
   "version": "3.8.8"
  }
 },
 "nbformat": 4,
 "nbformat_minor": 5
}
