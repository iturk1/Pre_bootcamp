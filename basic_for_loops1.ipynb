{
 "cells": [
  {
   "cell_type": "code",
   "execution_count": null,
   "id": "20fb64bb-5eca-429c-90bb-0a385cfd84f7",
   "metadata": {},
   "outputs": [],
   "source": [
    "#1 Print all integers from 0 to 150\n",
    "for x in range(0, 151,1):\n",
    "    print(x)"
   ]
  },
  {
   "cell_type": "code",
   "execution_count": null,
   "id": "229bbbb6-e5f1-4a89-affc-402c2f559bbc",
   "metadata": {},
   "outputs": [],
   "source": [
    "#2 Print all the multiples of 5 from 5 to 1,000\n",
    "for x in range(5,1001):\n",
    "    if (x % 5 ==0):\n",
    "         print(x)  "
   ]
  },
  {
   "cell_type": "code",
   "execution_count": null,
   "id": "9836c82e-3ec6-4daa-8cbb-16503762606b",
   "metadata": {},
   "outputs": [],
   "source": [
    "#3 Print integers 1 to 100. If divisible by 5, print \"Coding\" instead.\n",
    "#If divisible by 10, print \"Coding Dojo\".\n",
    "for x in range(1,100+1):\n",
    "    if (x % 10== 0):\n",
    "        print(\"Coing Dojo\")\n",
    "    elif (x % 5 == 0):\n",
    "        print(\"Coding\")\n",
    "    else: print(x)"
   ]
  },
  {
   "cell_type": "code",
   "execution_count": null,
   "id": "d2741f62-779a-4a7c-9630-4a6eac26fc94",
   "metadata": {},
   "outputs": [],
   "source": [
    "#4 Add odd integers from 0 to 500,000, and print the final sum.\n",
    "sum =0\n",
    "for x in range(500_000+1):\n",
    "    if(x % 2 !=0): \n",
    "        sum+=x   \n",
    "print(sum)  "
   ]
  },
  {
   "cell_type": "code",
   "execution_count": null,
   "id": "48847b90-c353-49a1-9fc6-dea5368be0bd",
   "metadata": {},
   "outputs": [],
   "source": [
    "#5 Print positive numbers starting at 2018, counting down by fours.\n",
    "for x in range(2018,0,-4):\n",
    "    if x % 2 ==0:\n",
    "        print(x)"
   ]
  },
  {
   "cell_type": "code",
   "execution_count": null,
   "id": "6f9dfee3-c789-4eb4-8851-617599a8a006",
   "metadata": {},
   "outputs": [],
   "source": [
    "#6 Print only the integers that are a multiple of mult\n",
    "lowNum = int(input(\"Statring at: \"))\n",
    "highNum = int(input(\"Ending the loop at: \"))\n",
    "mult = int(input(\"Enter a value of mult\"))\n",
    "\n",
    "for x in range (lowNum, highNum+1):\n",
    "    if x % mult ==0:\n",
    "        print(x)"
   ]
  },
  {
   "cell_type": "code",
   "execution_count": null,
   "id": "3a7ce5c5-71db-4958-88a3-5ef178bfa4d8",
   "metadata": {},
   "outputs": [],
   "source": []
  }
 ],
 "metadata": {
  "kernelspec": {
   "display_name": "Python 3",
   "language": "python",
   "name": "python3"
  },
  "language_info": {
   "codemirror_mode": {
    "name": "ipython",
    "version": 3
   },
   "file_extension": ".py",
   "mimetype": "text/x-python",
   "name": "python",
   "nbconvert_exporter": "python",
   "pygments_lexer": "ipython3",
   "version": "3.8.8"
  }
 },
 "nbformat": 4,
 "nbformat_minor": 5
}
