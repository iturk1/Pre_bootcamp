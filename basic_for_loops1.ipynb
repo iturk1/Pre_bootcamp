{
 "cells": [
  {
   "cell_type": "code",
   "execution_count": null,
   "id": "00a1c0ef-0518-456b-b6fc-4ac66fe18514",
   "metadata": {},
   "outputs": [],
   "source": [
    "#1 Print all integers from 0 to 150\n",
    "for x in range(0, 151,1):\n",
    "    print(x)"
   ]
  },
  {
   "cell_type": "code",
   "execution_count": null,
   "id": "01c2fcff-084e-4275-9c49-8bd2705d3c09",
   "metadata": {},
   "outputs": [],
   "source": [
    "#2 Print all the multiples of 5 from 5 to 1,000\n",
    "for x in range(5,1001):\n",
    "    x*=5\n",
    "    print(x)  "
   ]
  },
  {
   "cell_type": "code",
   "execution_count": 8,
   "id": "13d8c6fb-612e-4b48-9c8b-1cbbbb5237e9",
   "metadata": {},
   "outputs": [
    {
     "name": "stdout",
     "output_type": "stream",
     "text": [
      "1\n",
      "2\n",
      "3\n",
      "4\n",
      "Coding\n",
      "6\n",
      "7\n",
      "8\n",
      "9\n",
      "Coing Dojo\n",
      "11\n",
      "12\n",
      "13\n",
      "14\n",
      "Coding\n",
      "16\n",
      "17\n",
      "18\n",
      "19\n",
      "Coing Dojo\n",
      "21\n",
      "22\n",
      "23\n",
      "24\n",
      "Coding\n",
      "26\n",
      "27\n",
      "28\n",
      "29\n",
      "Coing Dojo\n",
      "31\n",
      "32\n",
      "33\n",
      "34\n",
      "Coding\n",
      "36\n",
      "37\n",
      "38\n",
      "39\n",
      "Coing Dojo\n",
      "41\n",
      "42\n",
      "43\n",
      "44\n",
      "Coding\n",
      "46\n",
      "47\n",
      "48\n",
      "49\n",
      "Coing Dojo\n",
      "51\n",
      "52\n",
      "53\n",
      "54\n",
      "Coding\n",
      "56\n",
      "57\n",
      "58\n",
      "59\n",
      "Coing Dojo\n",
      "61\n",
      "62\n",
      "63\n",
      "64\n",
      "Coding\n",
      "66\n",
      "67\n",
      "68\n",
      "69\n",
      "Coing Dojo\n",
      "71\n",
      "72\n",
      "73\n",
      "74\n",
      "Coding\n",
      "76\n",
      "77\n",
      "78\n",
      "79\n",
      "Coing Dojo\n",
      "81\n",
      "82\n",
      "83\n",
      "84\n",
      "Coding\n",
      "86\n",
      "87\n",
      "88\n",
      "89\n",
      "Coing Dojo\n",
      "91\n",
      "92\n",
      "93\n",
      "94\n",
      "Coding\n",
      "96\n",
      "97\n",
      "98\n",
      "99\n",
      "Coing Dojo\n"
     ]
    }
   ],
   "source": [
    "#3 Print integers 1 to 100. If divisible by 5, print \"Coding\" instead.\n",
    "#If divisible by 10, print \"Coding Dojo\".\n",
    "for x in range(1,100+1):\n",
    "    if (x % 10== 0):\n",
    "        print(\"Coing Dojo\")\n",
    "    elif (x % 5 == 0):\n",
    "        print(\"Coding\")\n",
    "    else: print(x)"
   ]
  },
  {
   "cell_type": "code",
   "execution_count": null,
   "id": "d2741f62-779a-4a7c-9630-4a6eac26fc94",
   "metadata": {},
   "outputs": [],
   "source": [
    "#4 Add odd integers from 0 to 500,000, and print the final sum.\n",
    "sum =0\n",
    "for x in range(500_000+1):\n",
    "    if(x % 2 !=0): \n",
    "        sum+=x   \n",
    "print(sum)  "
   ]
  },
  {
   "cell_type": "code",
   "execution_count": null,
   "id": "48847b90-c353-49a1-9fc6-dea5368be0bd",
   "metadata": {},
   "outputs": [],
   "source": [
    "#5 Print positive numbers starting at 2018, counting down by fours.\n",
    "for x in range(2018,0,-4):\n",
    "    if x % 2 ==0:\n",
    "        print(x)"
   ]
  },
  {
   "cell_type": "code",
   "execution_count": 3,
   "id": "598a8b9b-8fa4-415c-817c-d1afa7ac728a",
   "metadata": {},
   "outputs": [
    {
     "ename": "KeyboardInterrupt",
     "evalue": "Interrupted by user",
     "output_type": "error",
     "traceback": [
      "\u001b[0;31m---------------------------------------------------------------------------\u001b[0m",
      "\u001b[0;31mKeyboardInterrupt\u001b[0m                         Traceback (most recent call last)",
      "\u001b[0;32m<ipython-input-3-6d8a1cd32648>\u001b[0m in \u001b[0;36m<module>\u001b[0;34m\u001b[0m\n\u001b[1;32m      1\u001b[0m \u001b[0;31m#6 Print only the integers that are a multiple of mult\u001b[0m\u001b[0;34m\u001b[0m\u001b[0;34m\u001b[0m\u001b[0;34m\u001b[0m\u001b[0m\n\u001b[0;32m----> 2\u001b[0;31m \u001b[0mlowNum\u001b[0m \u001b[0;34m=\u001b[0m \u001b[0mint\u001b[0m\u001b[0;34m(\u001b[0m\u001b[0minput\u001b[0m\u001b[0;34m(\u001b[0m\u001b[0;34m\"Statring at: \"\u001b[0m\u001b[0;34m)\u001b[0m\u001b[0;34m)\u001b[0m\u001b[0;34m\u001b[0m\u001b[0;34m\u001b[0m\u001b[0m\n\u001b[0m\u001b[1;32m      3\u001b[0m \u001b[0mhighNum\u001b[0m \u001b[0;34m=\u001b[0m \u001b[0mint\u001b[0m\u001b[0;34m(\u001b[0m\u001b[0minput\u001b[0m\u001b[0;34m(\u001b[0m\u001b[0;34m\"Ending the loop at: \"\u001b[0m\u001b[0;34m)\u001b[0m\u001b[0;34m)\u001b[0m\u001b[0;34m\u001b[0m\u001b[0;34m\u001b[0m\u001b[0m\n\u001b[1;32m      4\u001b[0m \u001b[0mmult\u001b[0m \u001b[0;34m=\u001b[0m \u001b[0mint\u001b[0m\u001b[0;34m(\u001b[0m\u001b[0minput\u001b[0m\u001b[0;34m(\u001b[0m\u001b[0;34m\"Enter a value of mult\"\u001b[0m\u001b[0;34m)\u001b[0m\u001b[0;34m)\u001b[0m\u001b[0;34m\u001b[0m\u001b[0;34m\u001b[0m\u001b[0m\n\u001b[1;32m      5\u001b[0m \u001b[0;34m\u001b[0m\u001b[0m\n",
      "\u001b[0;32m~/opt/anaconda3/lib/python3.8/site-packages/ipykernel/kernelbase.py\u001b[0m in \u001b[0;36mraw_input\u001b[0;34m(self, prompt)\u001b[0m\n\u001b[1;32m    858\u001b[0m                 \u001b[0;34m\"raw_input was called, but this frontend does not support input requests.\"\u001b[0m\u001b[0;34m\u001b[0m\u001b[0;34m\u001b[0m\u001b[0m\n\u001b[1;32m    859\u001b[0m             )\n\u001b[0;32m--> 860\u001b[0;31m         return self._input_request(str(prompt),\n\u001b[0m\u001b[1;32m    861\u001b[0m             \u001b[0mself\u001b[0m\u001b[0;34m.\u001b[0m\u001b[0m_parent_ident\u001b[0m\u001b[0;34m,\u001b[0m\u001b[0;34m\u001b[0m\u001b[0;34m\u001b[0m\u001b[0m\n\u001b[1;32m    862\u001b[0m             \u001b[0mself\u001b[0m\u001b[0;34m.\u001b[0m\u001b[0m_parent_header\u001b[0m\u001b[0;34m,\u001b[0m\u001b[0;34m\u001b[0m\u001b[0;34m\u001b[0m\u001b[0m\n",
      "\u001b[0;32m~/opt/anaconda3/lib/python3.8/site-packages/ipykernel/kernelbase.py\u001b[0m in \u001b[0;36m_input_request\u001b[0;34m(self, prompt, ident, parent, password)\u001b[0m\n\u001b[1;32m    902\u001b[0m             \u001b[0;32mexcept\u001b[0m \u001b[0mKeyboardInterrupt\u001b[0m\u001b[0;34m:\u001b[0m\u001b[0;34m\u001b[0m\u001b[0;34m\u001b[0m\u001b[0m\n\u001b[1;32m    903\u001b[0m                 \u001b[0;31m# re-raise KeyboardInterrupt, to truncate traceback\u001b[0m\u001b[0;34m\u001b[0m\u001b[0;34m\u001b[0m\u001b[0;34m\u001b[0m\u001b[0m\n\u001b[0;32m--> 904\u001b[0;31m                 \u001b[0;32mraise\u001b[0m \u001b[0mKeyboardInterrupt\u001b[0m\u001b[0;34m(\u001b[0m\u001b[0;34m\"Interrupted by user\"\u001b[0m\u001b[0;34m)\u001b[0m \u001b[0;32mfrom\u001b[0m \u001b[0;32mNone\u001b[0m\u001b[0;34m\u001b[0m\u001b[0;34m\u001b[0m\u001b[0m\n\u001b[0m\u001b[1;32m    905\u001b[0m             \u001b[0;32mexcept\u001b[0m \u001b[0mException\u001b[0m \u001b[0;32mas\u001b[0m \u001b[0me\u001b[0m\u001b[0;34m:\u001b[0m\u001b[0;34m\u001b[0m\u001b[0;34m\u001b[0m\u001b[0m\n\u001b[1;32m    906\u001b[0m                 \u001b[0mself\u001b[0m\u001b[0;34m.\u001b[0m\u001b[0mlog\u001b[0m\u001b[0;34m.\u001b[0m\u001b[0mwarning\u001b[0m\u001b[0;34m(\u001b[0m\u001b[0;34m\"Invalid Message:\"\u001b[0m\u001b[0;34m,\u001b[0m \u001b[0mexc_info\u001b[0m\u001b[0;34m=\u001b[0m\u001b[0;32mTrue\u001b[0m\u001b[0;34m)\u001b[0m\u001b[0;34m\u001b[0m\u001b[0;34m\u001b[0m\u001b[0m\n",
      "\u001b[0;31mKeyboardInterrupt\u001b[0m: Interrupted by user"
     ]
    }
   ],
   "source": [
    "#6 Print only the integers that are a multiple of mult\n",
    "lowNum = int(input(\"Statring at: \"))\n",
    "highNum = int(input(\"Ending the loop at: \"))\n",
    "mult = int(input(\"Enter a value of mult\"))\n",
    "\n",
    "for x in range (lowNum, highNum+1):\n",
    "    if x % mult ==0:\n",
    "        print(x)"
   ]
  },
  {
   "cell_type": "raw",
   "id": "a33af754-4734-40ae-ad4d-c0825612f780",
   "metadata": {},
   "source": []
  }
 ],
 "metadata": {
  "kernelspec": {
   "display_name": "Python 3",
   "language": "python",
   "name": "python3"
  },
  "language_info": {
   "codemirror_mode": {
    "name": "ipython",
    "version": 3
   },
   "file_extension": ".py",
   "mimetype": "text/x-python",
   "name": "python",
   "nbconvert_exporter": "python",
   "pygments_lexer": "ipython3",
   "version": "3.8.8"
  }
 },
 "nbformat": 4,
 "nbformat_minor": 5
}
