{
 "cells": [
  {
   "cell_type": "code",
   "execution_count": null,
   "id": "00a1c0ef-0518-456b-b6fc-4ac66fe18514",
   "metadata": {},
   "outputs": [],
   "source": [
    "#1 Print all integers from 0 to 150\n",
    "for x in range(0, 151,1):\n",
    "    print(x)"
   ]
  },
  {
   "cell_type": "code",
   "execution_count": null,
   "id": "01c2fcff-084e-4275-9c49-8bd2705d3c09",
   "metadata": {},
   "outputs": [],
   "source": [
    "#2 Print all the multiples of 5 from 5 to 1,000\n",
    "for x in range(5,1001):\n",
    "    x*=5\n",
    "    print(x)  "
   ]
  },
  {
   "cell_type": "code",
   "execution_count": null,
   "id": "13d8c6fb-612e-4b48-9c8b-1cbbbb5237e9",
   "metadata": {},
   "outputs": [],
   "source": [
    "#3 Print integers 1 to 100. If divisible by 5, print \"Coding\" instead.\n",
    "#If divisible by 10, print \"Coding Dojo\".\n",
    "for x in range(1,100+1):\n",
    "    if x % 5 == 0:\n",
    "        print(\"Coding\")\n",
    "    if x % 10 == 0:\n",
    "        print(\"Coing Dojo\")"
   ]
  },
  {
   "cell_type": "code",
   "execution_count": null,
   "id": "1882120f-52c2-4836-a6fc-32e315192dde",
   "metadata": {},
   "outputs": [],
   "source": [
    "#4 Add odd integers from 0 to 500,000, and print the final sum.\n",
    "sum =0\n",
    "for x in range(500_000+1):\n",
    "    if(x % 2 !=0): \n",
    "        sum+=x   \n",
    "print(sum)  "
   ]
  },
  {
   "cell_type": "code",
   "execution_count": null,
   "id": "48847b90-c353-49a1-9fc6-dea5368be0bd",
   "metadata": {},
   "outputs": [],
   "source": [
    "#5 Print positive numbers starting at 2018, counting down by fours.\n",
    "for x in range(2018,0,-4):\n",
    "    if x % 2 ==0:\n",
    "        print(x)"
   ]
  },
  {
   "cell_type": "code",
   "execution_count": 2,
   "id": "598a8b9b-8fa4-415c-817c-d1afa7ac728a",
   "metadata": {},
   "outputs": [
    {
     "name": "stdin",
     "output_type": "stream",
     "text": [
      "Statring at:  2\n",
      "Ending the loop at:  88\n",
      "Enter a value of mult 3\n"
     ]
    },
    {
     "name": "stdout",
     "output_type": "stream",
     "text": [
      "3\n",
      "6\n",
      "9\n",
      "12\n",
      "15\n",
      "18\n",
      "21\n",
      "24\n",
      "27\n",
      "30\n",
      "33\n",
      "36\n",
      "39\n",
      "42\n",
      "45\n",
      "48\n",
      "51\n",
      "54\n",
      "57\n",
      "60\n",
      "63\n",
      "66\n",
      "69\n",
      "72\n",
      "75\n",
      "78\n",
      "81\n",
      "84\n",
      "87\n"
     ]
    }
   ],
   "source": [
    "#6 Print only the integers that are a multiple of mult\n",
    "lowNum = int(input(\"Statring at: \"))\n",
    "highNum = int(input(\"Ending the loop at: \"))\n",
    "mult = int(input(\"Enter a value of mult\"))\n",
    "\n",
    "for x in range (lowNum, highNum+1):\n",
    "    if x % mult ==0:\n",
    "        print(x)"
   ]
  },
  {
   "cell_type": "code",
   "execution_count": null,
   "id": "ea0d025f-cd53-49c6-a975-53094ea6ce83",
   "metadata": {},
   "outputs": [],
   "source": []
  }
 ],
 "metadata": {
  "kernelspec": {
   "display_name": "Python 3",
   "language": "python",
   "name": "python3"
  },
  "language_info": {
   "codemirror_mode": {
    "name": "ipython",
    "version": 3
   },
   "file_extension": ".py",
   "mimetype": "text/x-python",
   "name": "python",
   "nbconvert_exporter": "python",
   "pygments_lexer": "ipython3",
   "version": "3.8.8"
  }
 },
 "nbformat": 4,
 "nbformat_minor": 5
}
